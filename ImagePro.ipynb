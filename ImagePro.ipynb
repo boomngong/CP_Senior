{
 "cells": [
  {
   "cell_type": "code",
   "execution_count": 7,
   "metadata": {},
   "outputs": [],
   "source": [
    "import cv2\n",
    "import math\n",
    "import os\n",
    "import numpy as np\n",
    "import random as rng\n",
    "from sklearn.model_selection import train_test_split\n",
    "from matplotlib import pyplot as plt\n",
    "from ipywidgets import interact\n",
    "import ipywidgets as widgets\n",
    "%matplotlib inline"
   ]
  },
  {
   "cell_type": "code",
   "execution_count": 8,
   "metadata": {},
   "outputs": [],
   "source": [
    "PATH_YES = \"db\\\\07-02-2019\\\\TOOLS\\\\screenshot_for_model\\\\yes\\\\\"\n",
    "PATH_NO = \"db\\\\07-02-2019\\\\TOOLS\\\\screenshot_for_model\\\\no\\\\\"\n",
    "PATH_DATA = \"screenshot_dataset\\\\\""
   ]
  },
  {
   "cell_type": "code",
   "execution_count": 9,
   "metadata": {},
   "outputs": [],
   "source": [
    "i = 1\n",
    "dataX_0 = []\n",
    "dataY_0 = []\n",
    "for root, dirs, files in os.walk(PATH_YES):  \n",
    "    for filename in files:\n",
    "        inputImage = cv2.imread(PATH_YES+filename)\n",
    "        inputImage = cv2.cvtColor(inputImage, cv2.COLOR_BGR2RGB)\n",
    "        resized_image = cv2.resize(inputImage, (172, 310))\n",
    "        cv2.imwrite(PATH_DATA+\"all\\\\0\\\\0_\"+str(i)+\".jpg\", resized_image)\n",
    "        dataX_0.append(i)\n",
    "        dataY_0.append(0)\n",
    "        i += 1"
   ]
  },
  {
   "cell_type": "code",
   "execution_count": 10,
   "metadata": {},
   "outputs": [],
   "source": [
    "i = 1\n",
    "dataX_1 = []\n",
    "dataY_1 = []\n",
    "for root, dirs, files in os.walk(PATH_NO):  \n",
    "    for filename in files:\n",
    "        inputImage = cv2.imread(PATH_NO+filename)\n",
    "        inputImage = cv2.cvtColor(inputImage, cv2.COLOR_BGR2RGB)\n",
    "        resized_image = cv2.resize(inputImage, (172, 310))\n",
    "        cv2.imwrite(PATH_DATA+\"all\\\\1\\\\1_\"+str(i)+\".jpg\", resized_image)\n",
    "        dataX_1.append(i)\n",
    "        dataY_1.append(1)\n",
    "        i += 1"
   ]
  },
  {
   "cell_type": "code",
   "execution_count": 12,
   "metadata": {},
   "outputs": [],
   "source": [
    "rng.shuffle(dataX_0)"
   ]
  },
  {
   "cell_type": "code",
   "execution_count": 14,
   "metadata": {},
   "outputs": [],
   "source": [
    "dataX_0 = dataX_0[:len(dataX_1)]\n",
    "dataY_0 = dataY_0[:len(dataY_1)]"
   ]
  },
  {
   "cell_type": "code",
   "execution_count": 15,
   "metadata": {},
   "outputs": [],
   "source": [
    "trainX, testX, trainY, testY = train_test_split(dataX_0, dataY_0, test_size=0.2, random_state=42)\n",
    "trainX, valX, trainY, valY = train_test_split(trainX, trainY, test_size=0.2, random_state=42)"
   ]
  },
  {
   "cell_type": "code",
   "execution_count": 16,
   "metadata": {},
   "outputs": [],
   "source": [
    "for a in trainX:\n",
    "    inputImage = cv2.imread(PATH_DATA+\"all\\\\0\\\\0_\"+str(a)+\".jpg\")\n",
    "    cv2.imwrite(PATH_DATA+\"train\\\\0\\\\0_\"+str(a)+\".jpg\", inputImage)\n",
    "\n",
    "for a in testX:\n",
    "    inputImage = cv2.imread(PATH_DATA+\"all\\\\0\\\\0_\"+str(a)+\".jpg\")\n",
    "    cv2.imwrite(PATH_DATA+\"test\\\\0\\\\0_\"+str(a)+\".jpg\", resized_image)\n",
    "    \n",
    "for a in valX:\n",
    "    inputImage = cv2.imread(PATH_DATA+\"all\\\\0\\\\0_\"+str(a)+\".jpg\")\n",
    "    cv2.imwrite(PATH_DATA+\"val\\\\0\\\\0_\"+str(a)+\".jpg\", resized_image)"
   ]
  },
  {
   "cell_type": "code",
   "execution_count": 17,
   "metadata": {},
   "outputs": [],
   "source": [
    "trainX, testX, trainY, testY = train_test_split(dataX_1, dataY_1, test_size=0.2, random_state=42)\n",
    "trainX, valX, trainY, valY = train_test_split(trainX, trainY, test_size=0.2, random_state=42)"
   ]
  },
  {
   "cell_type": "code",
   "execution_count": 18,
   "metadata": {},
   "outputs": [],
   "source": [
    "for a in trainX:\n",
    "    inputImage = cv2.imread(PATH_DATA+\"all\\\\1\\\\1_\"+str(a)+\".jpg\")\n",
    "    cv2.imwrite(PATH_DATA+\"train\\\\1\\\\1_\"+str(a)+\".jpg\", inputImage)\n",
    "\n",
    "for a in testX:\n",
    "    inputImage = cv2.imread(PATH_DATA+\"all\\\\1\\\\1_\"+str(a)+\".jpg\")\n",
    "    cv2.imwrite(PATH_DATA+\"test\\\\1\\\\1_\"+str(a)+\".jpg\", resized_image)\n",
    "    \n",
    "for a in valX:\n",
    "    inputImage = cv2.imread(PATH_DATA+\"all\\\\1\\\\1_\"+str(a)+\".jpg\")\n",
    "    cv2.imwrite(PATH_DATA+\"val\\\\1\\\\1_\"+str(a)+\".jpg\", resized_image)"
   ]
  },
  {
   "cell_type": "code",
   "execution_count": null,
   "metadata": {},
   "outputs": [],
   "source": []
  }
 ],
 "metadata": {
  "kernelspec": {
   "display_name": "Python 3",
   "language": "python",
   "name": "python3"
  },
  "language_info": {
   "codemirror_mode": {
    "name": "ipython",
    "version": 3
   },
   "file_extension": ".py",
   "mimetype": "text/x-python",
   "name": "python",
   "nbconvert_exporter": "python",
   "pygments_lexer": "ipython3",
   "version": "3.6.1"
  }
 },
 "nbformat": 4,
 "nbformat_minor": 2
}
